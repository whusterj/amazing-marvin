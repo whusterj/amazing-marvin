{
 "cells": [
  {
   "cell_type": "markdown",
   "metadata": {},
   "source": [
    "# Graph My Task Statistics\n",
    "\n",
    "We'll use the matplotlib [Stacked Area Plot](https://www.python-graph-gallery.com/stacked-area-plot/) to visualize the accumulation of incoming vs. completed tasks over time."
   ]
  },
  {
   "cell_type": "code",
   "execution_count": null,
   "metadata": {},
   "outputs": [],
   "source": [
    "%matplotlib widget\n",
    "\n",
    "import datetime as dt\n",
    "import numpy as np\n",
    "import matplotlib.pyplot as plt\n",
    "import matplotlib.dates as mdates\n",
    "from matplotlib.dates import DateFormatter\n",
    "import mplcursors\n",
    "\n",
    "from main import AmazingCloudAntClient\n",
    "\n",
    "client = AmazingCloudAntClient()\n",
    "chart_data = client.get_task_stats_for_chart()\n",
    "\n",
    "date_fmt = DateFormatter(\"%Y-%m-%d\")"
   ]
  },
  {
   "cell_type": "code",
   "execution_count": null,
   "metadata": {},
   "outputs": [],
   "source": [
    "fig, ax = plt.subplots(1, 1, figsize=(10, 5))\n",
    "\n",
    "# Set up figure\n",
    "ax.stackplot(\n",
    "    chart_data[\"dates\"],\n",
    "    chart_data[\"incomplete\"],\n",
    "    chart_data[\"complete\"],\n",
    "    labels=['Incomplete','Complete'],\n",
    ")\n",
    "plt.legend(loc='upper left')\n",
    "plt.title(\"My Task Completion over Time\")\n",
    "plt.xlabel('date')\n",
    "plt.ylabel('task count')\n",
    "\n",
    "# Format Dates\n",
    "fig.autofmt_xdate()\n",
    "ax.xaxis.set_major_formatter(date_fmt)\n",
    "\n",
    "mplcursors.cursor(hover=True)\n",
    "plt.show()"
   ]
  },
  {
   "cell_type": "code",
   "execution_count": null,
   "metadata": {},
   "outputs": [],
   "source": [
    "# Set up figures\n",
    "fig, [ax1, ax2] = plt.subplots(1, 2, figsize=(10, 5))\n",
    "ax1.title.set_text(\"Backlog Over Time\")\n",
    "ax2.title.set_text(\"Completed Over Time\")\n",
    "ax1.plot_date(chart_data[\"dates\"], chart_data[\"incomplete\"], \"-\")\n",
    "ax2.plot_date(chart_data[\"dates\"], chart_data[\"complete\"], \"-\")\n",
    "\n",
    "# Format dates\n",
    "fig.autofmt_xdate()\n",
    "date_form = DateFormatter(\"%Y-%m-%d\")\n",
    "ax1.xaxis.set_major_formatter(date_form)\n",
    "ax2.xaxis.set_major_formatter(date_form)\n",
    "\n",
    "mplcursors.cursor(hover=True)\n",
    "plt.show()"
   ]
  },
  {
   "cell_type": "code",
   "execution_count": null,
   "metadata": {},
   "outputs": [],
   "source": [
    "# Tasks Added / Removed Today\n",
    "today_stats = client.get_tasks_added_removed_between()\n",
    "\n",
    "print(\"TODAY'S TASK STATS\")\n",
    "\n",
    "print(f'{ len(today_stats[\"created\"]) } Task/s Created')\n",
    "for t in today_stats[\"created\"]:\n",
    "    print(f'  - { t[\"doc\"][\"title\"] }')\n",
    "\n",
    "print('')\n",
    "\n",
    "print(f'{ len(today_stats[\"completed\"]) } Task/s Completed')\n",
    "for t in today_stats[\"completed\"]:\n",
    "    print(f'  - { t[\"doc\"][\"title\"] }')"
   ]
  }
 ],
 "metadata": {
  "kernelspec": {
   "display_name": "Python 3.9.7 ('venv': venv)",
   "language": "python",
   "name": "python3"
  },
  "language_info": {
   "codemirror_mode": {
    "name": "ipython",
    "version": 3
   },
   "file_extension": ".py",
   "mimetype": "text/x-python",
   "name": "python",
   "nbconvert_exporter": "python",
   "pygments_lexer": "ipython3",
   "version": "3.9.7"
  },
  "orig_nbformat": 4,
  "vscode": {
   "interpreter": {
    "hash": "d9577c0061f8ab3179abc6b2b0fa3c5a81e54a4fb093b64fbaf308377dd7cc8d"
   }
  }
 },
 "nbformat": 4,
 "nbformat_minor": 2
}
